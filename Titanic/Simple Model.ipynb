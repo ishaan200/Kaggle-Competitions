{
 "cells": [
  {
   "cell_type": "markdown",
   "id": "steady-depression",
   "metadata": {},
   "source": [
    "# Titanic (Top 13%, 0.78708 Accuracy)"
   ]
  },
  {
   "cell_type": "markdown",
   "id": "atmospheric-buyer",
   "metadata": {},
   "source": [
    "## Importing The Libraries"
   ]
  },
  {
   "cell_type": "code",
   "execution_count": 140,
   "id": "functional-kentucky",
   "metadata": {},
   "outputs": [],
   "source": [
    "import pandas as pd\n",
    "import numpy as np"
   ]
  },
  {
   "cell_type": "code",
   "execution_count": 141,
   "id": "congressional-flower",
   "metadata": {},
   "outputs": [],
   "source": [
    "import matplotlib.pyplot as plt\n",
    "%matplotlib inline\n",
    "import seaborn as sns"
   ]
  },
  {
   "cell_type": "code",
   "execution_count": 142,
   "id": "mobile-ecuador",
   "metadata": {},
   "outputs": [],
   "source": [
    "from sklearn.model_selection import train_test_split\n",
    "\n",
    "from sklearn.metrics import confusion_matrix\n",
    "from sklearn.metrics import accuracy_score"
   ]
  },
  {
   "cell_type": "code",
   "execution_count": 143,
   "id": "illegal-apollo",
   "metadata": {},
   "outputs": [],
   "source": [
    "import warnings\n",
    "warnings.filterwarnings(\"ignore\")"
   ]
  },
  {
   "cell_type": "markdown",
   "id": "loving-atlantic",
   "metadata": {},
   "source": [
    "## The Dataset"
   ]
  },
  {
   "cell_type": "markdown",
   "id": "likely-aspect",
   "metadata": {},
   "source": [
    "### Reading The Data"
   ]
  },
  {
   "cell_type": "code",
   "execution_count": 144,
   "id": "descending-dependence",
   "metadata": {},
   "outputs": [],
   "source": [
    "train = pd.read_csv(\"train.csv\")\n",
    "test = pd.read_csv(\"test.csv\")"
   ]
  },
  {
   "cell_type": "code",
   "execution_count": 145,
   "id": "exciting-ecology",
   "metadata": {},
   "outputs": [
    {
     "data": {
      "text/html": [
       "<div>\n",
       "<style scoped>\n",
       "    .dataframe tbody tr th:only-of-type {\n",
       "        vertical-align: middle;\n",
       "    }\n",
       "\n",
       "    .dataframe tbody tr th {\n",
       "        vertical-align: top;\n",
       "    }\n",
       "\n",
       "    .dataframe thead th {\n",
       "        text-align: right;\n",
       "    }\n",
       "</style>\n",
       "<table border=\"1\" class=\"dataframe\">\n",
       "  <thead>\n",
       "    <tr style=\"text-align: right;\">\n",
       "      <th></th>\n",
       "      <th>PassengerId</th>\n",
       "      <th>Survived</th>\n",
       "      <th>Pclass</th>\n",
       "      <th>Name</th>\n",
       "      <th>Sex</th>\n",
       "      <th>Age</th>\n",
       "      <th>SibSp</th>\n",
       "      <th>Parch</th>\n",
       "      <th>Ticket</th>\n",
       "      <th>Fare</th>\n",
       "      <th>Cabin</th>\n",
       "      <th>Embarked</th>\n",
       "    </tr>\n",
       "  </thead>\n",
       "  <tbody>\n",
       "    <tr>\n",
       "      <th>0</th>\n",
       "      <td>1</td>\n",
       "      <td>0</td>\n",
       "      <td>3</td>\n",
       "      <td>Braund, Mr. Owen Harris</td>\n",
       "      <td>male</td>\n",
       "      <td>22.0</td>\n",
       "      <td>1</td>\n",
       "      <td>0</td>\n",
       "      <td>A/5 21171</td>\n",
       "      <td>7.2500</td>\n",
       "      <td>NaN</td>\n",
       "      <td>S</td>\n",
       "    </tr>\n",
       "    <tr>\n",
       "      <th>1</th>\n",
       "      <td>2</td>\n",
       "      <td>1</td>\n",
       "      <td>1</td>\n",
       "      <td>Cumings, Mrs. John Bradley (Florence Briggs Th...</td>\n",
       "      <td>female</td>\n",
       "      <td>38.0</td>\n",
       "      <td>1</td>\n",
       "      <td>0</td>\n",
       "      <td>PC 17599</td>\n",
       "      <td>71.2833</td>\n",
       "      <td>C85</td>\n",
       "      <td>C</td>\n",
       "    </tr>\n",
       "    <tr>\n",
       "      <th>2</th>\n",
       "      <td>3</td>\n",
       "      <td>1</td>\n",
       "      <td>3</td>\n",
       "      <td>Heikkinen, Miss. Laina</td>\n",
       "      <td>female</td>\n",
       "      <td>26.0</td>\n",
       "      <td>0</td>\n",
       "      <td>0</td>\n",
       "      <td>STON/O2. 3101282</td>\n",
       "      <td>7.9250</td>\n",
       "      <td>NaN</td>\n",
       "      <td>S</td>\n",
       "    </tr>\n",
       "    <tr>\n",
       "      <th>3</th>\n",
       "      <td>4</td>\n",
       "      <td>1</td>\n",
       "      <td>1</td>\n",
       "      <td>Futrelle, Mrs. Jacques Heath (Lily May Peel)</td>\n",
       "      <td>female</td>\n",
       "      <td>35.0</td>\n",
       "      <td>1</td>\n",
       "      <td>0</td>\n",
       "      <td>113803</td>\n",
       "      <td>53.1000</td>\n",
       "      <td>C123</td>\n",
       "      <td>S</td>\n",
       "    </tr>\n",
       "    <tr>\n",
       "      <th>4</th>\n",
       "      <td>5</td>\n",
       "      <td>0</td>\n",
       "      <td>3</td>\n",
       "      <td>Allen, Mr. William Henry</td>\n",
       "      <td>male</td>\n",
       "      <td>35.0</td>\n",
       "      <td>0</td>\n",
       "      <td>0</td>\n",
       "      <td>373450</td>\n",
       "      <td>8.0500</td>\n",
       "      <td>NaN</td>\n",
       "      <td>S</td>\n",
       "    </tr>\n",
       "  </tbody>\n",
       "</table>\n",
       "</div>"
      ],
      "text/plain": [
       "   PassengerId  Survived  Pclass  \\\n",
       "0            1         0       3   \n",
       "1            2         1       1   \n",
       "2            3         1       3   \n",
       "3            4         1       1   \n",
       "4            5         0       3   \n",
       "\n",
       "                                                Name     Sex   Age  SibSp  \\\n",
       "0                            Braund, Mr. Owen Harris    male  22.0      1   \n",
       "1  Cumings, Mrs. John Bradley (Florence Briggs Th...  female  38.0      1   \n",
       "2                             Heikkinen, Miss. Laina  female  26.0      0   \n",
       "3       Futrelle, Mrs. Jacques Heath (Lily May Peel)  female  35.0      1   \n",
       "4                           Allen, Mr. William Henry    male  35.0      0   \n",
       "\n",
       "   Parch            Ticket     Fare Cabin Embarked  \n",
       "0      0         A/5 21171   7.2500   NaN        S  \n",
       "1      0          PC 17599  71.2833   C85        C  \n",
       "2      0  STON/O2. 3101282   7.9250   NaN        S  \n",
       "3      0            113803  53.1000  C123        S  \n",
       "4      0            373450   8.0500   NaN        S  "
      ]
     },
     "execution_count": 145,
     "metadata": {},
     "output_type": "execute_result"
    }
   ],
   "source": [
    "train.head()"
   ]
  },
  {
   "cell_type": "markdown",
   "id": "numerous-change",
   "metadata": {},
   "source": [
    "### Getting The General Information About The Data"
   ]
  },
  {
   "cell_type": "code",
   "execution_count": 146,
   "id": "earlier-director",
   "metadata": {},
   "outputs": [
    {
     "name": "stdout",
     "output_type": "stream",
     "text": [
      "<class 'pandas.core.frame.DataFrame'>\n",
      "RangeIndex: 891 entries, 0 to 890\n",
      "Data columns (total 12 columns):\n",
      " #   Column       Non-Null Count  Dtype  \n",
      "---  ------       --------------  -----  \n",
      " 0   PassengerId  891 non-null    int64  \n",
      " 1   Survived     891 non-null    int64  \n",
      " 2   Pclass       891 non-null    int64  \n",
      " 3   Name         891 non-null    object \n",
      " 4   Sex          891 non-null    object \n",
      " 5   Age          714 non-null    float64\n",
      " 6   SibSp        891 non-null    int64  \n",
      " 7   Parch        891 non-null    int64  \n",
      " 8   Ticket       891 non-null    object \n",
      " 9   Fare         891 non-null    float64\n",
      " 10  Cabin        204 non-null    object \n",
      " 11  Embarked     889 non-null    object \n",
      "dtypes: float64(2), int64(5), object(5)\n",
      "memory usage: 83.7+ KB\n"
     ]
    }
   ],
   "source": [
    "train.info()"
   ]
  },
  {
   "cell_type": "markdown",
   "id": "innocent-customs",
   "metadata": {},
   "source": [
    "### Descriptive Statistics"
   ]
  },
  {
   "cell_type": "code",
   "execution_count": 147,
   "id": "broken-press",
   "metadata": {},
   "outputs": [
    {
     "data": {
      "text/html": [
       "<div>\n",
       "<style scoped>\n",
       "    .dataframe tbody tr th:only-of-type {\n",
       "        vertical-align: middle;\n",
       "    }\n",
       "\n",
       "    .dataframe tbody tr th {\n",
       "        vertical-align: top;\n",
       "    }\n",
       "\n",
       "    .dataframe thead th {\n",
       "        text-align: right;\n",
       "    }\n",
       "</style>\n",
       "<table border=\"1\" class=\"dataframe\">\n",
       "  <thead>\n",
       "    <tr style=\"text-align: right;\">\n",
       "      <th></th>\n",
       "      <th>PassengerId</th>\n",
       "      <th>Survived</th>\n",
       "      <th>Pclass</th>\n",
       "      <th>Age</th>\n",
       "      <th>SibSp</th>\n",
       "      <th>Parch</th>\n",
       "      <th>Fare</th>\n",
       "    </tr>\n",
       "  </thead>\n",
       "  <tbody>\n",
       "    <tr>\n",
       "      <th>count</th>\n",
       "      <td>891.000000</td>\n",
       "      <td>891.000000</td>\n",
       "      <td>891.000000</td>\n",
       "      <td>714.000000</td>\n",
       "      <td>891.000000</td>\n",
       "      <td>891.000000</td>\n",
       "      <td>891.000000</td>\n",
       "    </tr>\n",
       "    <tr>\n",
       "      <th>mean</th>\n",
       "      <td>446.000000</td>\n",
       "      <td>0.383838</td>\n",
       "      <td>2.308642</td>\n",
       "      <td>29.699118</td>\n",
       "      <td>0.523008</td>\n",
       "      <td>0.381594</td>\n",
       "      <td>32.204208</td>\n",
       "    </tr>\n",
       "    <tr>\n",
       "      <th>std</th>\n",
       "      <td>257.353842</td>\n",
       "      <td>0.486592</td>\n",
       "      <td>0.836071</td>\n",
       "      <td>14.526497</td>\n",
       "      <td>1.102743</td>\n",
       "      <td>0.806057</td>\n",
       "      <td>49.693429</td>\n",
       "    </tr>\n",
       "    <tr>\n",
       "      <th>min</th>\n",
       "      <td>1.000000</td>\n",
       "      <td>0.000000</td>\n",
       "      <td>1.000000</td>\n",
       "      <td>0.420000</td>\n",
       "      <td>0.000000</td>\n",
       "      <td>0.000000</td>\n",
       "      <td>0.000000</td>\n",
       "    </tr>\n",
       "    <tr>\n",
       "      <th>25%</th>\n",
       "      <td>223.500000</td>\n",
       "      <td>0.000000</td>\n",
       "      <td>2.000000</td>\n",
       "      <td>20.125000</td>\n",
       "      <td>0.000000</td>\n",
       "      <td>0.000000</td>\n",
       "      <td>7.910400</td>\n",
       "    </tr>\n",
       "    <tr>\n",
       "      <th>50%</th>\n",
       "      <td>446.000000</td>\n",
       "      <td>0.000000</td>\n",
       "      <td>3.000000</td>\n",
       "      <td>28.000000</td>\n",
       "      <td>0.000000</td>\n",
       "      <td>0.000000</td>\n",
       "      <td>14.454200</td>\n",
       "    </tr>\n",
       "    <tr>\n",
       "      <th>75%</th>\n",
       "      <td>668.500000</td>\n",
       "      <td>1.000000</td>\n",
       "      <td>3.000000</td>\n",
       "      <td>38.000000</td>\n",
       "      <td>1.000000</td>\n",
       "      <td>0.000000</td>\n",
       "      <td>31.000000</td>\n",
       "    </tr>\n",
       "    <tr>\n",
       "      <th>max</th>\n",
       "      <td>891.000000</td>\n",
       "      <td>1.000000</td>\n",
       "      <td>3.000000</td>\n",
       "      <td>80.000000</td>\n",
       "      <td>8.000000</td>\n",
       "      <td>6.000000</td>\n",
       "      <td>512.329200</td>\n",
       "    </tr>\n",
       "  </tbody>\n",
       "</table>\n",
       "</div>"
      ],
      "text/plain": [
       "       PassengerId    Survived      Pclass         Age       SibSp  \\\n",
       "count   891.000000  891.000000  891.000000  714.000000  891.000000   \n",
       "mean    446.000000    0.383838    2.308642   29.699118    0.523008   \n",
       "std     257.353842    0.486592    0.836071   14.526497    1.102743   \n",
       "min       1.000000    0.000000    1.000000    0.420000    0.000000   \n",
       "25%     223.500000    0.000000    2.000000   20.125000    0.000000   \n",
       "50%     446.000000    0.000000    3.000000   28.000000    0.000000   \n",
       "75%     668.500000    1.000000    3.000000   38.000000    1.000000   \n",
       "max     891.000000    1.000000    3.000000   80.000000    8.000000   \n",
       "\n",
       "            Parch        Fare  \n",
       "count  891.000000  891.000000  \n",
       "mean     0.381594   32.204208  \n",
       "std      0.806057   49.693429  \n",
       "min      0.000000    0.000000  \n",
       "25%      0.000000    7.910400  \n",
       "50%      0.000000   14.454200  \n",
       "75%      0.000000   31.000000  \n",
       "max      6.000000  512.329200  "
      ]
     },
     "execution_count": 147,
     "metadata": {},
     "output_type": "execute_result"
    }
   ],
   "source": [
    "train.describe()"
   ]
  },
  {
   "cell_type": "markdown",
   "id": "behind-premises",
   "metadata": {},
   "source": [
    "### Checking The Missing Values In The Dataset"
   ]
  },
  {
   "cell_type": "code",
   "execution_count": 148,
   "id": "jewish-mirror",
   "metadata": {},
   "outputs": [
    {
     "data": {
      "text/plain": [
       "PassengerId      0\n",
       "Survived         0\n",
       "Pclass           0\n",
       "Name             0\n",
       "Sex              0\n",
       "Age            177\n",
       "SibSp            0\n",
       "Parch            0\n",
       "Ticket           0\n",
       "Fare             0\n",
       "Cabin          687\n",
       "Embarked         2\n",
       "dtype: int64"
      ]
     },
     "execution_count": 148,
     "metadata": {},
     "output_type": "execute_result"
    }
   ],
   "source": [
    "train.isnull().sum()"
   ]
  },
  {
   "cell_type": "code",
   "execution_count": 149,
   "id": "polished-dragon",
   "metadata": {},
   "outputs": [
    {
     "data": {
      "text/plain": [
       "PassengerId      0\n",
       "Pclass           0\n",
       "Name             0\n",
       "Sex              0\n",
       "Age             86\n",
       "SibSp            0\n",
       "Parch            0\n",
       "Ticket           0\n",
       "Fare             1\n",
       "Cabin          327\n",
       "Embarked         0\n",
       "dtype: int64"
      ]
     },
     "execution_count": 149,
     "metadata": {},
     "output_type": "execute_result"
    }
   ],
   "source": [
    "test.isnull().sum()"
   ]
  },
  {
   "cell_type": "markdown",
   "id": "elementary-anchor",
   "metadata": {},
   "source": [
    "#### Replacing The Missing Values In Embarked By The Mode Of The Column"
   ]
  },
  {
   "cell_type": "code",
   "execution_count": 150,
   "id": "distinct-mother",
   "metadata": {},
   "outputs": [],
   "source": [
    "embarked_mode = train[\"Embarked\"].mode()[0]"
   ]
  },
  {
   "cell_type": "code",
   "execution_count": 151,
   "id": "authorized-socket",
   "metadata": {},
   "outputs": [],
   "source": [
    "train[\"Embarked\"].fillna(embarked_mode, inplace=True)"
   ]
  },
  {
   "cell_type": "markdown",
   "id": "integral-delta",
   "metadata": {},
   "source": [
    "#### Creating A New Column Indicating Whether Cabin Information Was Missing Or Not And Dropping The Cabin Column"
   ]
  },
  {
   "cell_type": "code",
   "execution_count": 152,
   "id": "creative-receipt",
   "metadata": {},
   "outputs": [],
   "source": [
    "train[\"Cabin_Missing\"] = train[\"Cabin\"].map(lambda x: 1 if pd.isnull(x) else 0)\n",
    "train.drop(\"Cabin\", axis=1, inplace=True)"
   ]
  },
  {
   "cell_type": "code",
   "execution_count": 153,
   "id": "russian-trial",
   "metadata": {},
   "outputs": [],
   "source": [
    "test[\"Cabin_Missing\"] = test[\"Cabin\"].map(lambda x: 1 if pd.isnull(x) else 0)\n",
    "test.drop(\"Cabin\", axis=1, inplace=True)"
   ]
  },
  {
   "cell_type": "markdown",
   "id": "opposite-immune",
   "metadata": {},
   "source": [
    "#### Deal With The Missing Values In Age Column"
   ]
  },
  {
   "cell_type": "code",
   "execution_count": 154,
   "id": "biblical-banks",
   "metadata": {},
   "outputs": [],
   "source": [
    "age_medians = train.groupby(by=[\"Sex\", \"Pclass\", \"Embarked\"])[\"Age\"].median()"
   ]
  },
  {
   "cell_type": "code",
   "execution_count": 155,
   "id": "technological-flavor",
   "metadata": {},
   "outputs": [],
   "source": [
    "for sex in [\"female\", \"male\"]:\n",
    "    for pclass in [1,2,3]:\n",
    "        for emb in [\"C\", \"Q\", \"S\"]:\n",
    "            mask = (train[\"Sex\"]==sex) & (train[\"Pclass\"]==pclass) & (train[\"Embarked\"]==emb)\n",
    "            train[\"Age\"].loc[mask] = train[\"Age\"].loc[mask].fillna(age_medians[sex, pclass, emb])\n",
    "            \n",
    "            mask = (test[\"Sex\"]==sex) & (test[\"Pclass\"]==pclass) & (test[\"Embarked\"]==emb)\n",
    "            test[\"Age\"].loc[mask] = test[\"Age\"].loc[mask].fillna(age_medians[sex, pclass, emb])"
   ]
  },
  {
   "cell_type": "markdown",
   "id": "ranking-honor",
   "metadata": {},
   "source": [
    "#### Replacing The Missing Values In Fare Column By The Median"
   ]
  },
  {
   "cell_type": "code",
   "execution_count": 156,
   "id": "excellent-breath",
   "metadata": {},
   "outputs": [],
   "source": [
    "fare_median = train[\"Fare\"].median()"
   ]
  },
  {
   "cell_type": "code",
   "execution_count": 157,
   "id": "banned-foster",
   "metadata": {},
   "outputs": [],
   "source": [
    "test[\"Fare\"].fillna(fare_median, inplace=True)"
   ]
  },
  {
   "cell_type": "markdown",
   "id": "experimental-initial",
   "metadata": {},
   "source": [
    "#### Checking For The Missing Values Once Again"
   ]
  },
  {
   "cell_type": "code",
   "execution_count": 158,
   "id": "ultimate-cooperative",
   "metadata": {},
   "outputs": [
    {
     "data": {
      "text/plain": [
       "PassengerId      0\n",
       "Survived         0\n",
       "Pclass           0\n",
       "Name             0\n",
       "Sex              0\n",
       "Age              0\n",
       "SibSp            0\n",
       "Parch            0\n",
       "Ticket           0\n",
       "Fare             0\n",
       "Embarked         0\n",
       "Cabin_Missing    0\n",
       "dtype: int64"
      ]
     },
     "execution_count": 158,
     "metadata": {},
     "output_type": "execute_result"
    }
   ],
   "source": [
    "train.isnull().sum()"
   ]
  },
  {
   "cell_type": "code",
   "execution_count": 159,
   "id": "greenhouse-sweden",
   "metadata": {},
   "outputs": [
    {
     "data": {
      "text/plain": [
       "PassengerId      0\n",
       "Pclass           0\n",
       "Name             0\n",
       "Sex              0\n",
       "Age              0\n",
       "SibSp            0\n",
       "Parch            0\n",
       "Ticket           0\n",
       "Fare             0\n",
       "Embarked         0\n",
       "Cabin_Missing    0\n",
       "dtype: int64"
      ]
     },
     "execution_count": 159,
     "metadata": {},
     "output_type": "execute_result"
    }
   ],
   "source": [
    "test.isnull().sum()"
   ]
  },
  {
   "cell_type": "markdown",
   "id": "surprised-season",
   "metadata": {},
   "source": [
    "As we can see, we do not have any missing value now."
   ]
  },
  {
   "cell_type": "markdown",
   "id": "funky-shaft",
   "metadata": {},
   "source": [
    "## Data Wrangling"
   ]
  },
  {
   "cell_type": "markdown",
   "id": "hearing-arlington",
   "metadata": {},
   "source": [
    "### Title Column  "
   ]
  },
  {
   "cell_type": "markdown",
   "id": "urban-warehouse",
   "metadata": {},
   "source": [
    "We will get the titles of all the names and drop the Name column"
   ]
  },
  {
   "cell_type": "code",
   "execution_count": 160,
   "id": "acceptable-german",
   "metadata": {},
   "outputs": [
    {
     "data": {
      "text/plain": [
       "Mr.             502\n",
       "Miss.           179\n",
       "Mrs.            121\n",
       "Master.          40\n",
       "Dr.               7\n",
       "Rev.              6\n",
       "y                 4\n",
       "Planke,           3\n",
       "Impe,             3\n",
       "Gordon,           2\n",
       "Col.              2\n",
       "Major.            2\n",
       "Mlle.             2\n",
       "Messemaeker,      1\n",
       "der               1\n",
       "Pelsmaeker,       1\n",
       "Steen,            1\n",
       "Shawah,           1\n",
       "Velde,            1\n",
       "Mme.              1\n",
       "Jonkheer.         1\n",
       "Don.              1\n",
       "Walle,            1\n",
       "Cruyssen,         1\n",
       "Ms.               1\n",
       "Mulder,           1\n",
       "Melkebeke,        1\n",
       "the               1\n",
       "Carlo,            1\n",
       "Billiard,         1\n",
       "Capt.             1\n",
       "Name: Title, dtype: int64"
      ]
     },
     "execution_count": 160,
     "metadata": {},
     "output_type": "execute_result"
    }
   ],
   "source": [
    "train[\"Title\"] = train[\"Name\"].apply(lambda x: x.split()[1])\n",
    "train[\"Title\"].value_counts()"
   ]
  },
  {
   "cell_type": "markdown",
   "id": "thrown-anniversary",
   "metadata": {},
   "source": [
    "We can see that apart from Mr., Miss., Mrs., Master. all others titles are very less in occurence. So we will group them together into 'Others'"
   ]
  },
  {
   "cell_type": "code",
   "execution_count": 161,
   "id": "surgical-seminar",
   "metadata": {},
   "outputs": [],
   "source": [
    "titles = train[\"Title\"].value_counts().index.tolist()\n",
    "for title in titles[4:]:\n",
    "    train[\"Title\"].replace(title, \"Others\", inplace=True)"
   ]
  },
  {
   "cell_type": "code",
   "execution_count": 162,
   "id": "happy-actor",
   "metadata": {},
   "outputs": [],
   "source": [
    "train.drop(\"Name\", axis=1, inplace=True)"
   ]
  },
  {
   "cell_type": "code",
   "execution_count": 163,
   "id": "arabic-shower",
   "metadata": {},
   "outputs": [
    {
     "data": {
      "text/plain": [
       "Mr.             234\n",
       "Miss.            77\n",
       "Mrs.             70\n",
       "Master.          19\n",
       "y                 4\n",
       "Rev.              2\n",
       "Billiard,         2\n",
       "Col.              2\n",
       "Planke,           1\n",
       "Carlo,            1\n",
       "Dr.               1\n",
       "Brito,            1\n",
       "Ms.               1\n",
       "Palmquist,        1\n",
       "Khalil,           1\n",
       "Messemaeker,      1\n",
       "Name: Title, dtype: int64"
      ]
     },
     "execution_count": 163,
     "metadata": {},
     "output_type": "execute_result"
    }
   ],
   "source": [
    "test[\"Title\"] = test[\"Name\"].apply(lambda x: x.split()[1])\n",
    "test[\"Title\"].value_counts()"
   ]
  },
  {
   "cell_type": "code",
   "execution_count": 164,
   "id": "chief-artist",
   "metadata": {},
   "outputs": [],
   "source": [
    "titles = test[\"Title\"].value_counts().index.tolist()\n",
    "for title in titles[4:]:\n",
    "    test[\"Title\"].replace(title, \"Others\", inplace=True)"
   ]
  },
  {
   "cell_type": "code",
   "execution_count": 165,
   "id": "hispanic-commercial",
   "metadata": {},
   "outputs": [],
   "source": [
    "test.drop(\"Name\", axis=1, inplace=True)"
   ]
  },
  {
   "cell_type": "markdown",
   "id": "departmental-composer",
   "metadata": {},
   "source": [
    "### Family Members Column"
   ]
  },
  {
   "cell_type": "markdown",
   "id": "corresponding-phone",
   "metadata": {},
   "source": [
    "We will combine the SibSp and Parch columns into one column and drop the SibSp and Parch columns"
   ]
  },
  {
   "cell_type": "code",
   "execution_count": 166,
   "id": "protecting-peace",
   "metadata": {},
   "outputs": [],
   "source": [
    "train[\"FamilyMembers\"] = train[\"SibSp\"] + train[\"Parch\"]\n",
    "train.drop([\"SibSp\", \"Parch\"], axis=1, inplace=True)"
   ]
  },
  {
   "cell_type": "code",
   "execution_count": 167,
   "id": "biblical-advancement",
   "metadata": {},
   "outputs": [],
   "source": [
    "test[\"FamilyMembers\"] = test[\"SibSp\"] + test[\"Parch\"]\n",
    "test.drop([\"SibSp\", \"Parch\"], axis=1, inplace=True)"
   ]
  },
  {
   "cell_type": "markdown",
   "id": "raising-symphony",
   "metadata": {},
   "source": [
    "### Categorizing Age Column"
   ]
  },
  {
   "cell_type": "code",
   "execution_count": 168,
   "id": "seeing-kelly",
   "metadata": {},
   "outputs": [
    {
     "data": {
      "image/png": "[encoded data removed]",
      "text/plain": [
       "<Figure size 432x288 with 1 Axes>"
      ]
     },
     "metadata": {
      "needs_background": "light"
     },
     "output_type": "display_data"
    }
   ],
   "source": [
    "sns.boxplot(train[\"Age\"])\n",
    "plt.show()"
   ]
  },
  {
   "cell_type": "code",
   "execution_count": 169,
   "id": "better-exchange",
   "metadata": {},
   "outputs": [],
   "source": [
    "train[\"AgeGroup\"] = pd.cut(train[\"Age\"], bins=[0,18,30,60,100], labels=[\"Young\", \"Young Adult\", \"Adult\", \"Old\"], include_lowest=True)\n",
    "train.drop(\"Age\", axis=1, inplace=True)\n",
    "\n",
    "test[\"AgeGroup\"] = pd.cut(test[\"Age\"], bins=[0,18,30,60,100], labels=[\"Young\", \"Young Adult\", \"Adult\", \"Old\"], include_lowest=True)\n",
    "test.drop(\"Age\", axis=1, inplace=True)"
   ]
  },
  {
   "cell_type": "markdown",
   "id": "extra-implementation",
   "metadata": {},
   "source": [
    "### Categorizing Fare Column"
   ]
  },
  {
   "cell_type": "code",
   "execution_count": 170,
   "id": "inner-journey",
   "metadata": {},
   "outputs": [
    {
     "data": {
      "image/png": "[encoded data removed]",
      "text/plain": [
       "<Figure size 432x288 with 1 Axes>"
      ]
     },
     "metadata": {
      "needs_background": "light"
     },
     "output_type": "display_data"
    }
   ],
   "source": [
    "sns.boxplot(train[\"Fare\"])\n",
    "plt.show()"
   ]
  },
  {
   "cell_type": "code",
   "execution_count": 171,
   "id": "helpful-medium",
   "metadata": {},
   "outputs": [],
   "source": [
    "train[\"FareGroup\"] = pd.cut(train[\"Fare\"], bins=[0,20,50,100,1000], labels=[\"0-20\", \"21-50\", \"51-100\", \"100+\"], include_lowest=True)\n",
    "train.drop(\"Fare\", axis=1, inplace=True)\n",
    "\n",
    "test[\"FareGroup\"] = pd.cut(test[\"Fare\"], bins=[0,20,50,100,1000], labels=[\"0-20\", \"21-50\", \"51-100\", \"100+\"], include_lowest=True)\n",
    "test.drop(\"Fare\", axis=1, inplace=True)"
   ]
  },
  {
   "cell_type": "markdown",
   "id": "great-selection",
   "metadata": {},
   "source": [
    "### Categorizing Family Members Column"
   ]
  },
  {
   "cell_type": "code",
   "execution_count": 172,
   "id": "related-exercise",
   "metadata": {},
   "outputs": [
    {
     "data": {
      "image/png": "[encoded data removed]",
      "text/plain": [
       "<Figure size 432x288 with 1 Axes>"
      ]
     },
     "metadata": {
      "needs_background": "light"
     },
     "output_type": "display_data"
    }
   ],
   "source": [
    "sns.boxplot(train[\"FamilyMembers\"])\n",
    "plt.show()"
   ]
  },
  {
   "cell_type": "code",
   "execution_count": 173,
   "id": "distant-absence",
   "metadata": {},
   "outputs": [],
   "source": [
    "train[\"FamilySize\"] = pd.cut(train[\"FamilyMembers\"], bins=[0,1,4,6,20], labels=[\"Alone\", \"Small\", \"Medium\", \"Large\"], include_lowest=True)\n",
    "train.drop(\"FamilyMembers\", axis=1, inplace=True)\n",
    "\n",
    "test[\"FamilySize\"] = pd.cut(test[\"FamilyMembers\"], bins=[0,1,4,6,20], labels=[\"Alone\", \"Small\", \"Medium\", \"Large\"], include_lowest=True)\n",
    "test.drop(\"FamilyMembers\", axis=1, inplace=True)"
   ]
  },
  {
   "cell_type": "markdown",
   "id": "spanish-medicine",
   "metadata": {},
   "source": [
    "#### Dropping The Ticket Column"
   ]
  },
  {
   "cell_type": "code",
   "execution_count": 174,
   "id": "direct-caution",
   "metadata": {},
   "outputs": [],
   "source": [
    "train.drop(\"Ticket\", axis=1, inplace=True)\n",
    "test.drop(\"Ticket\", axis=1, inplace=True)"
   ]
  },
  {
   "cell_type": "markdown",
   "id": "abandoned-patrick",
   "metadata": {},
   "source": [
    "#### Checking All The Columns"
   ]
  },
  {
   "cell_type": "code",
   "execution_count": 175,
   "id": "opposite-management",
   "metadata": {},
   "outputs": [
    {
     "name": "stdout",
     "output_type": "stream",
     "text": [
      "<class 'pandas.core.frame.DataFrame'>\n",
      "RangeIndex: 891 entries, 0 to 890\n",
      "Data columns (total 10 columns):\n",
      " #   Column         Non-Null Count  Dtype   \n",
      "---  ------         --------------  -----   \n",
      " 0   PassengerId    891 non-null    int64   \n",
      " 1   Survived       891 non-null    int64   \n",
      " 2   Pclass         891 non-null    int64   \n",
      " 3   Sex            891 non-null    object  \n",
      " 4   Embarked       891 non-null    object  \n",
      " 5   Cabin_Missing  891 non-null    int64   \n",
      " 6   Title          891 non-null    object  \n",
      " 7   AgeGroup       891 non-null    category\n",
      " 8   FareGroup      891 non-null    category\n",
      " 9   FamilySize     891 non-null    category\n",
      "dtypes: category(3), int64(4), object(3)\n",
      "memory usage: 52.0+ KB\n"
     ]
    }
   ],
   "source": [
    "train.info()"
   ]
  },
  {
   "cell_type": "code",
   "execution_count": 176,
   "id": "coupled-symbol",
   "metadata": {},
   "outputs": [
    {
     "name": "stdout",
     "output_type": "stream",
     "text": [
      "<class 'pandas.core.frame.DataFrame'>\n",
      "RangeIndex: 418 entries, 0 to 417\n",
      "Data columns (total 9 columns):\n",
      " #   Column         Non-Null Count  Dtype   \n",
      "---  ------         --------------  -----   \n",
      " 0   PassengerId    418 non-null    int64   \n",
      " 1   Pclass         418 non-null    int64   \n",
      " 2   Sex            418 non-null    object  \n",
      " 3   Embarked       418 non-null    object  \n",
      " 4   Cabin_Missing  418 non-null    int64   \n",
      " 5   Title          418 non-null    object  \n",
      " 6   AgeGroup       418 non-null    category\n",
      " 7   FareGroup      418 non-null    category\n",
      " 8   FamilySize     418 non-null    category\n",
      "dtypes: category(3), int64(3), object(3)\n",
      "memory usage: 21.5+ KB\n"
     ]
    }
   ],
   "source": [
    "test.info()"
   ]
  },
  {
   "cell_type": "markdown",
   "id": "mysterious-growing",
   "metadata": {},
   "source": [
    "## Exploratory Data Analysis"
   ]
  },
  {
   "cell_type": "code",
   "execution_count": 177,
   "id": "recorded-electric",
   "metadata": {},
   "outputs": [],
   "source": [
    "# Helper Method To Display Count Plot\n",
    "\n",
    "def show_count_plot(x, hue=None, data=train):\n",
    "    plt.figure()\n",
    "    sns.countplot(x, hue=hue, data=data)\n",
    "    plt.show()"
   ]
  },
  {
   "cell_type": "code",
   "execution_count": 178,
   "id": "standing-share",
   "metadata": {},
   "outputs": [],
   "source": [
    "# Helper Method To Display Bar Plot\n",
    "\n",
    "def show_bar_plot(x, y, data=train):\n",
    "    plt.figure()\n",
    "    sns.barplot(x, y, data=data, ci=None)\n",
    "    plt.show()"
   ]
  },
  {
   "cell_type": "markdown",
   "id": "digital-alcohol",
   "metadata": {},
   "source": [
    "### Let Us Check For Data Imbalance"
   ]
  },
  {
   "cell_type": "code",
   "execution_count": 179,
   "id": "discrete-identifier",
   "metadata": {},
   "outputs": [
    {
     "data": {
      "image/png": "[encoded data removed]",
      "text/plain": [
       "<Figure size 432x288 with 1 Axes>"
      ]
     },
     "metadata": {
      "needs_background": "light"
     },
     "output_type": "display_data"
    }
   ],
   "source": [
    "show_count_plot(\"Survived\")"
   ]
  },
  {
   "cell_type": "markdown",
   "id": "emotional-grave",
   "metadata": {},
   "source": [
    "### Bivariate Analyis"
   ]
  },
  {
   "cell_type": "markdown",
   "id": "stone-afghanistan",
   "metadata": {},
   "source": [
    "#### Sex vs Survived"
   ]
  },
  {
   "cell_type": "code",
   "execution_count": 180,
   "id": "lovely-lesbian",
   "metadata": {},
   "outputs": [
    {
     "data": {
      "image/png": "[encoded data removed]",
      "text/plain": [
       "<Figure size 432x288 with 1 Axes>"
      ]
     },
     "metadata": {
      "needs_background": "light"
     },
     "output_type": "display_data"
    }
   ],
   "source": [
    "show_bar_plot(\"Sex\", \"Survived\")"
   ]
  },
  {
   "cell_type": "markdown",
   "id": "raising-personality",
   "metadata": {},
   "source": [
    "#### CabinMissing vs Survived"
   ]
  },
  {
   "cell_type": "code",
   "execution_count": 181,
   "id": "everyday-salvation",
   "metadata": {},
   "outputs": [
    {
     "data": {
      "image/png": "[encoded data removed]",
      "text/plain": [
       "<Figure size 432x288 with 1 Axes>"
      ]
     },
     "metadata": {
      "needs_background": "light"
     },
     "output_type": "display_data"
    }
   ],
   "source": [
    "show_bar_plot(\"Cabin_Missing\", \"Survived\")"
   ]
  },
  {
   "cell_type": "markdown",
   "id": "fourth-conditioning",
   "metadata": {},
   "source": [
    "#### Pclass vs Survived"
   ]
  },
  {
   "cell_type": "code",
   "execution_count": 182,
   "id": "moderate-blair",
   "metadata": {},
   "outputs": [
    {
     "data": {
      "image/png": "[encoded data removed]",
      "text/plain": [
       "<Figure size 432x288 with 1 Axes>"
      ]
     },
     "metadata": {
      "needs_background": "light"
     },
     "output_type": "display_data"
    }
   ],
   "source": [
    "show_count_plot(x=\"Pclass\", hue=\"Survived\")"
   ]
  },
  {
   "cell_type": "markdown",
   "id": "careful-action",
   "metadata": {},
   "source": [
    "#### Embarked vs Survived"
   ]
  },
  {
   "cell_type": "code",
   "execution_count": 183,
   "id": "exempt-pilot",
   "metadata": {},
   "outputs": [
    {
     "data": {
      "image/png": "[encoded data removed]",
      "text/plain": [
       "<Figure size 432x288 with 1 Axes>"
      ]
     },
     "metadata": {
      "needs_background": "light"
     },
     "output_type": "display_data"
    }
   ],
   "source": [
    "show_count_plot(x=\"Embarked\", hue=\"Survived\")"
   ]
  },
  {
   "cell_type": "markdown",
   "id": "diagnostic-consortium",
   "metadata": {},
   "source": [
    "#### Title vs Survived"
   ]
  },
  {
   "cell_type": "code",
   "execution_count": 184,
   "id": "stunning-northeast",
   "metadata": {},
   "outputs": [
    {
     "data": {
      "image/png": "[encoded data removed]",
      "text/plain": [
       "<Figure size 432x288 with 1 Axes>"
      ]
     },
     "metadata": {
      "needs_background": "light"
     },
     "output_type": "display_data"
    }
   ],
   "source": [
    "show_count_plot(x=\"Title\", hue=\"Survived\")"
   ]
  },
  {
   "cell_type": "markdown",
   "id": "defensive-celebrity",
   "metadata": {},
   "source": [
    "#### AgeGroup vs Survived"
   ]
  },
  {
   "cell_type": "code",
   "execution_count": 185,
   "id": "tough-hypothesis",
   "metadata": {},
   "outputs": [
    {
     "data": {
      "image/png": "[encoded data removed]",
      "text/plain": [
       "<Figure size 432x288 with 1 Axes>"
      ]
     },
     "metadata": {
      "needs_background": "light"
     },
     "output_type": "display_data"
    }
   ],
   "source": [
    "show_count_plot(x=\"AgeGroup\", hue=\"Survived\")"
   ]
  },
  {
   "cell_type": "markdown",
   "id": "august-chicken",
   "metadata": {},
   "source": [
    "#### FareGroup vs Survived"
   ]
  },
  {
   "cell_type": "code",
   "execution_count": 186,
   "id": "latter-governor",
   "metadata": {},
   "outputs": [
    {
     "data": {
      "image/png": "[encoded data removed]",
      "text/plain": [
       "<Figure size 432x288 with 1 Axes>"
      ]
     },
     "metadata": {
      "needs_background": "light"
     },
     "output_type": "display_data"
    }
   ],
   "source": [
    "show_count_plot(x=\"FareGroup\", hue=\"Survived\")"
   ]
  },
  {
   "cell_type": "markdown",
   "id": "living-profession",
   "metadata": {},
   "source": [
    "#### FamilySize vs Survived"
   ]
  },
  {
   "cell_type": "code",
   "execution_count": 187,
   "id": "convinced-limit",
   "metadata": {},
   "outputs": [
    {
     "data": {
      "image/png": "[encoded data removed]",
      "text/plain": [
       "<Figure size 432x288 with 1 Axes>"
      ]
     },
     "metadata": {
      "needs_background": "light"
     },
     "output_type": "display_data"
    }
   ],
   "source": [
    "show_count_plot(x=\"FamilySize\", hue=\"Survived\")"
   ]
  },
  {
   "cell_type": "markdown",
   "id": "electric-robin",
   "metadata": {},
   "source": [
    "### Multivariate Analysis"
   ]
  },
  {
   "cell_type": "code",
   "execution_count": 188,
   "id": "radio-orange",
   "metadata": {},
   "outputs": [],
   "source": [
    "#Helper Method To Display Multivariate Analysis\n",
    "\n",
    "def multivariate_analysis(index, column):\n",
    "    pt = pd.pivot_table(data=train, index=index, columns=column, values=\"Survived\")\n",
    "    plt.figure()\n",
    "    sns.heatmap(pt, annot=True, fmt=\".2%\", cmap=\"Greens\")\n",
    "    plt.show()"
   ]
  },
  {
   "cell_type": "markdown",
   "id": "decimal-translation",
   "metadata": {},
   "source": [
    "#### Pclass vs Sex"
   ]
  },
  {
   "cell_type": "code",
   "execution_count": 189,
   "id": "lonely-assembly",
   "metadata": {},
   "outputs": [
    {
     "data": {
      "image/png": "[encoded data removed]",
      "text/plain": [
       "<Figure size 432x288 with 2 Axes>"
      ]
     },
     "metadata": {
      "needs_background": "light"
     },
     "output_type": "display_data"
    }
   ],
   "source": [
    "multivariate_analysis(\"Pclass\", \"Sex\")"
   ]
  },
  {
   "cell_type": "markdown",
   "id": "naughty-gates",
   "metadata": {},
   "source": [
    "Females in the 1st & 2nd class have very high rates of survival"
   ]
  },
  {
   "cell_type": "markdown",
   "id": "adopted-preserve",
   "metadata": {},
   "source": [
    "#### Pclass vs Title"
   ]
  },
  {
   "cell_type": "code",
   "execution_count": 190,
   "id": "cardiac-serbia",
   "metadata": {},
   "outputs": [
    {
     "data": {
      "image/png": "[encoded data removed]",
      "text/plain": [
       "<Figure size 432x288 with 2 Axes>"
      ]
     },
     "metadata": {
      "needs_background": "light"
     },
     "output_type": "display_data"
    }
   ],
   "source": [
    "multivariate_analysis(\"Pclass\", \"Title\")"
   ]
  },
  {
   "cell_type": "markdown",
   "id": "developed-orange",
   "metadata": {},
   "source": [
    "People with title Master. in the 1st and the 2nd class have very high rates of survival"
   ]
  },
  {
   "cell_type": "markdown",
   "id": "religious-queue",
   "metadata": {},
   "source": [
    "#### Sex vs FamilySize"
   ]
  },
  {
   "cell_type": "code",
   "execution_count": 191,
   "id": "accepted-linux",
   "metadata": {},
   "outputs": [
    {
     "data": {
      "image/png": "[encoded data removed]",
      "text/plain": [
       "<Figure size 432x288 with 1 Axes>"
      ]
     },
     "metadata": {
      "needs_background": "light"
     },
     "output_type": "display_data"
    }
   ],
   "source": [
    "sns.barplot(data=train.loc[train[\"Pclass\"]==3], x=\"Sex\", y=\"Survived\", hue=\"FamilySize\", ci=None)\n",
    "plt.show()"
   ]
  },
  {
   "cell_type": "markdown",
   "id": "refined-rough",
   "metadata": {},
   "source": [
    "Females who are alone in class 3 have very high rates of survival"
   ]
  },
  {
   "cell_type": "markdown",
   "id": "pleased-office",
   "metadata": {},
   "source": [
    "#### Sex vs Embarking Station"
   ]
  },
  {
   "cell_type": "code",
   "execution_count": 192,
   "id": "neither-kruger",
   "metadata": {},
   "outputs": [
    {
     "data": {
      "image/png": "[encoded data removed]",
      "text/plain": [
       "<Figure size 432x288 with 1 Axes>"
      ]
     },
     "metadata": {
      "needs_background": "light"
     },
     "output_type": "display_data"
    }
   ],
   "source": [
    "sns.barplot(data=train.loc[train[\"Pclass\"]==3], x=\"Sex\", y=\"Survived\", hue=\"Embarked\", ci=None)\n",
    "plt.show()"
   ]
  },
  {
   "cell_type": "markdown",
   "id": "comic-animation",
   "metadata": {},
   "source": [
    "Females who embarked from station C have very high rates of survival"
   ]
  },
  {
   "cell_type": "markdown",
   "id": "instant-hierarchy",
   "metadata": {},
   "source": [
    "#### Model Rules"
   ]
  },
  {
   "cell_type": "markdown",
   "id": "confirmed-fighter",
   "metadata": {},
   "source": [
    "We build a model on 5 rules :\n",
    "1. All females in classes 1 and 2 survive\n",
    "2. All Masters. in classes 1 and 2 survive\n",
    "3. Females in class 3 who are alone survive\n",
    "4. Females in class 3 who embarked from stations Q and C survive\n",
    "5. All others die"
   ]
  },
  {
   "cell_type": "markdown",
   "id": "sustainable-prague",
   "metadata": {},
   "source": [
    "## Model Building"
   ]
  },
  {
   "cell_type": "markdown",
   "id": "loose-absence",
   "metadata": {},
   "source": [
    "### Creating The Train-Test Split"
   ]
  },
  {
   "cell_type": "code",
   "execution_count": 193,
   "id": "opened-lobby",
   "metadata": {},
   "outputs": [],
   "source": [
    "y = train.pop(\"Survived\")\n",
    "X = train"
   ]
  },
  {
   "cell_type": "code",
   "execution_count": 194,
   "id": "official-intellectual",
   "metadata": {},
   "outputs": [],
   "source": [
    "X_train, X_test, y_train, y_test = train_test_split(X, y, test_size=0.2, random_state=100)"
   ]
  },
  {
   "cell_type": "markdown",
   "id": "direct-advancement",
   "metadata": {},
   "source": [
    "### Coding The Model Rules"
   ]
  },
  {
   "cell_type": "code",
   "execution_count": 195,
   "id": "documentary-health",
   "metadata": {},
   "outputs": [],
   "source": [
    "def make_predictions(test):\n",
    "    test[\"Survived\"] = 0\n",
    "    test.loc[(test[\"Sex\"]==\"female\") & (test[\"Pclass\"]<3), \"Survived\"] = 1\n",
    "    test.loc[(test[\"Title\"]==\"Master.\") & (test[\"Pclass\"]<3), \"Survived\"] = 1\n",
    "    test.loc[(test[\"Sex\"]==\"female\") & (test[\"Pclass\"]==3) & (test[\"Embarked\"]!=\"S\"), \"Survived\"] = 1\n",
    "    test.loc[(test[\"Sex\"]==\"female\") & (test[\"Pclass\"]==3) & (test[\"FamilySize\"]==1), \"Survived\"] = 1                 "
   ]
  },
  {
   "cell_type": "code",
   "execution_count": 196,
   "id": "auburn-tribe",
   "metadata": {},
   "outputs": [],
   "source": [
    "make_predictions(X_test)"
   ]
  },
  {
   "cell_type": "code",
   "execution_count": 197,
   "id": "substantial-fundamentals",
   "metadata": {},
   "outputs": [
    {
     "data": {
      "image/png": "[encoded data removed]",
      "text/plain": [
       "<Figure size 432x432 with 2 Axes>"
      ]
     },
     "metadata": {
      "needs_background": "light"
     },
     "output_type": "display_data"
    },
    {
     "name": "stdout",
     "output_type": "stream",
     "text": [
      "Training Accuracy : 0.82\n"
     ]
    }
   ],
   "source": [
    "plt.figure(figsize=(6,6))\n",
    "cm = confusion_matrix(y_test, X_test[\"Survived\"])\n",
    "sns.heatmap(cm, annot=True, cmap=\"Greens\")\n",
    "plt.show()\n",
    "\n",
    "train_score = np.round(accuracy_score(y_test, X_test[\"Survived\"]),2)\n",
    "print(\"Training Accuracy : {}\".format(train_score))"
   ]
  },
  {
   "cell_type": "markdown",
   "id": "academic-balance",
   "metadata": {},
   "source": [
    "### Making The Predictions On The Test Set"
   ]
  },
  {
   "cell_type": "code",
   "execution_count": 198,
   "id": "opposite-cherry",
   "metadata": {},
   "outputs": [],
   "source": [
    "make_predictions(test)"
   ]
  },
  {
   "cell_type": "code",
   "execution_count": 199,
   "id": "innovative-exclusion",
   "metadata": {},
   "outputs": [],
   "source": [
    "submission = test[[\"PassengerId\", \"Survived\"]]\n",
    "submission.set_index('PassengerId',inplace=True)\n",
    "submission.to_csv('submission.csv')"
   ]
  }
 ],
 "metadata": {
  "kernelspec": {
   "display_name": "Python 3",
   "language": "python",
   "name": "python3"
  },
  "language_info": {
   "codemirror_mode": {
    "name": "ipython",
    "version": 3
   },
   "file_extension": ".py",
   "mimetype": "text/x-python",
   "name": "python",
   "nbconvert_exporter": "python",
   "pygments_lexer": "ipython3",
   "version": "3.6.8"
  },
  "toc": {
   "base_numbering": 1,
   "nav_menu": {},
   "number_sections": true,
   "sideBar": true,
   "skip_h1_title": false,
   "title_cell": "Table of Contents",
   "title_sidebar": "Contents",
   "toc_cell": false,
   "toc_position": {
    "height": "calc(100% - 180px)",
    "left": "10px",
    "top": "150px",
    "width": "292.679px"
   },
   "toc_section_display": true,
   "toc_window_display": true
  }
 },
 "nbformat": 4,
 "nbformat_minor": 5
}
